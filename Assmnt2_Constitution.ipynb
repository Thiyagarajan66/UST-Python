{
 "cells": [
  {
   "cell_type": "code",
   "execution_count": 1,
   "id": "ae0f70c9",
   "metadata": {},
   "outputs": [],
   "source": [
    "import pandas as pd\n",
    "import numpy as np\n",
    "import matplotlib.pyplot as plt"
   ]
  },
  {
   "cell_type": "code",
   "execution_count": 33,
   "id": "19c5a4a3",
   "metadata": {},
   "outputs": [
    {
     "name": "stdout",
     "output_type": "stream",
     "text": [
      "{'W': 33, 'e': 5033, 't': 3573, 'h': 1974, 'P': 216, 'o': 2658, 'p': 547, 'l': 1419, 'f': 1005, 'U': 94, 'n': 2549, 'i': 2364, 'd': 1181, 'S': 322, 'a': 2551, 's': 2339, 'O': 51, 'r': 2108, 'm': 667, 'c': 943, 'b': 568, 'J': 44, 'u': 748, 'T': 150, 'q': 42, 'y': 477, 'v': 395, 'g': 424, 'B': 42, 'L': 67, 'C': 213, 'A': 119, 'w': 339, 'H': 49, 'R': 85, 'M': 62, 'Y': 26, 'E': 51, 'Q': 4, 'N': 58, 'z': 31, 'I': 51, 'x': 96, 'k': 51, 'D': 42, 'V': 59, 'G': 19, 'j': 52, 'F': 14, 'K': 2}\n",
      "50\n"
     ]
    },
    {
     "data": {
      "image/png": "[encoded data removed]",
      "text/plain": [
       "<Figure size 720x360 with 1 Axes>"
      ]
     },
     "metadata": {
      "needs_background": "light"
     },
     "output_type": "display_data"
    }
   ],
   "source": [
    "\n",
    "\n",
    "skip_words = ['0','1','2','3','4','5','6','7','8','9', ' ', '\\n', ',', '.', ':', '-', '(', ')', '\"', ';']\n",
    "\n",
    "words = open('constitution.txt', 'r')\n",
    "letters_count = {}\n",
    "for word in words:\n",
    "    for letter in word:\n",
    "        if letter in skip_words:\n",
    "            continue\n",
    "        if letter in letters_count:\n",
    "            letters_count[letter] = letters_count[letter] + 1\n",
    "        else:\n",
    "            letters_count[letter] = 1\n",
    "\n",
    "print(letters_count)\n",
    "\n",
    "print(len(letters_count.keys()))\n",
    "\n",
    "letters = list(letters_count.keys())\n",
    "count = list(letters_count.values())\n",
    "  \n",
    "fig = plt.figure(figsize = (10, 5))\n",
    " \n",
    "# creating the bar plot\n",
    "plt.bar(letters, count, color ='maroon',\n",
    "        width = 0.4)\n",
    " \n",
    "plt.xlabel(\"Letters\")\n",
    "plt.ylabel(\"Total Number of presence\")\n",
    "plt.title(\"Constitution Text\")\n",
    "plt.show()\n",
    "\n"
   ]
  },
  {
   "cell_type": "code",
   "execution_count": null,
   "id": "16d9ff59",
   "metadata": {},
   "outputs": [],
   "source": []
  },
  {
   "cell_type": "code",
   "execution_count": null,
   "id": "c7318583",
   "metadata": {},
   "outputs": [],
   "source": []
  }
 ],
 "metadata": {
  "kernelspec": {
   "display_name": "Python 3 (ipykernel)",
   "language": "python",
   "name": "python3"
  },
  "language_info": {
   "codemirror_mode": {
    "name": "ipython",
    "version": 3
   },
   "file_extension": ".py",
   "mimetype": "text/x-python",
   "name": "python",
   "nbconvert_exporter": "python",
   "pygments_lexer": "ipython3",
   "version": "3.9.12"
  }
 },
 "nbformat": 4,
 "nbformat_minor": 5
}
